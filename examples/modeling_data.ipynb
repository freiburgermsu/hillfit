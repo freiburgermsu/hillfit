{
 "cells": [
  {
   "cell_type": "code",
   "execution_count": null,
   "metadata": {
    "scrolled": false
   },
   "outputs": [],
   "source": [
    "from numpy import array\n",
    "import pandas\n",
    "# from hillfit import HillFit\n",
    "%run ../hillfit/fitting.py\n",
    "\n",
    "# import and prepare the mohfing data\n",
    "data = pandas.read_csv(open(r'processed_data.csv'))\n",
    "xs = [x for x in data['time (hr)'] if x != 0]\n",
    "ys = [y for y in data['oxidation_proportion'] if y != 0]\n",
    "\n",
    "# execute the Hillfit module\n",
    "hf = HillFit(xs, ys)\n",
    "x_label = 'hours'\n",
    "y_label = 'reduction'\n",
    "title = 'Fitted Hill equation for porphyrin PDI'\n",
    "x_fit, y_fit, equation = hf.fitting(x_label, y_label, title)\n",
    "hf.export(export_name = 'hillfit-regression')\n",
    "print(equation)\n",
    "\n",
    "# use the equation to predict a value\n",
    "x = 6.4\n",
    "print(f'eval() prediction at {x} hours:', eval(equation))\n",
    "\n",
    "# print the parameters\n",
    "print('top', hf.top)\n",
    "print('bottom', hf.bottom)\n",
    "print('ec50', hf.ec50)\n",
    "print('nH', hf.nH)"
   ]
  }
 ],
 "metadata": {
  "kernelspec": {
   "display_name": "Python 3",
   "language": "python",
   "name": "python3"
  },
  "language_info": {
   "codemirror_mode": {
    "name": "ipython",
    "version": 3
   },
   "file_extension": ".py",
   "mimetype": "text/x-python",
   "name": "python",
   "nbconvert_exporter": "python",
   "pygments_lexer": "ipython3",
   "version": "3.7.4"
  }
 },
 "nbformat": 4,
 "nbformat_minor": 2
}
